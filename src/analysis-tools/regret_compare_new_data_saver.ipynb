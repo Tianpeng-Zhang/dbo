{
 "cells": [
  {
   "cell_type": "code",
   "execution_count": 1,
   "metadata": {
    "collapsed": true
   },
   "outputs": [
    {
     "name": "stdout",
     "output_type": "stream",
     "text": [
      "algorithm: BUCB, regret:49.653 \\\\ $\\pm$24.728\n",
      "\n",
      "algorithm: EI-MC, regret:1.447 \\\\ $\\pm$2.994\n",
      "\n",
      "algorithm: ES, regret:0.859 \\\\ $\\pm$1.121\n",
      "\n",
      "algorithm: SP, regret:0.237 \\\\ $\\pm$0.199\n",
      "\n",
      "algorithm: TS, regret:0.080 \\\\ $\\pm$0.090\n",
      "\n",
      "algorithm: UCBPE, regret:0.540 \\\\ $\\pm$0.659\n",
      "\n"
     ]
    }
   ],
   "source": [
    "import matplotlib.pyplot as plt\n",
    "import matplotlib.ticker as ticker\n",
    "import numpy as np\n",
    "import os\n",
    "from os.path import dirname,join\n",
    "import csv\n",
    "import __main__\n",
    "import json\n",
    "\n",
    "import pandas as pd\n",
    "import seaborn as sns\n",
    "\n",
    "result_to_dump = 'rosenbrock/to_compare_30'\n",
    "SLIDES = True\n",
    "sns.set(style=\"darkgrid\")\n",
    "\n",
    "def load_data():\n",
    "    root_dir = '/home/mht/PythonProjects/dbo'\n",
    "    results_dir = join(join(root_dir, 'result'), result_to_dump)\n",
    "    dirs = [dir for dir in os.listdir(results_dir) if os.path.isdir(os.path.join(results_dir, dir))]\n",
    "    i = 2\n",
    "    dfs = []\n",
    "    for result_dir in sorted(dirs):\n",
    "        file_dir = join(join(join(root_dir, 'result'), result_to_dump), result_dir)\n",
    "        dfs.append(pd.read_csv(os.path.join(file_dir, 'data/data.csv')))\n",
    "\n",
    "    return dfs\n",
    "\n",
    "dfs = load_data()\n",
    "for df in dfs:\n",
    "    describe_df = df[df['iteration']==150]['regret'].describe()\n",
    "    mean, std = describe_df['mean'], describe_df['std']\n",
    "    alg_name = df['alg'][0]\n",
    "    print(\"algorithm: {}, regret:{:.3f} \\\\\\\\ $\\pm${:.3f}\\n\".format(alg_name, mean * 100, std * 100))\n"
   ]
  }
 ],
 "metadata": {
  "kernelspec": {
   "display_name": "Python 3",
   "language": "python",
   "name": "python3"
  },
  "language_info": {
   "codemirror_mode": {
    "name": "ipython",
    "version": 2
   },
   "file_extension": ".py",
   "mimetype": "text/x-python",
   "name": "python",
   "nbconvert_exporter": "python",
   "pygments_lexer": "ipython2",
   "version": "2.7.6"
  }
 },
 "nbformat": 4,
 "nbformat_minor": 0
}
